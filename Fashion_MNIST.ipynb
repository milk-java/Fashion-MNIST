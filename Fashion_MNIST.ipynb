{
  "nbformat": 4,
  "nbformat_minor": 0,
  "metadata": {
    "colab": {
      "provenance": [],
      "authorship_tag": "ABX9TyM5rK8uOgFuy3Dup64XHqfE",
      "include_colab_link": true
    },
    "kernelspec": {
      "name": "python3",
      "display_name": "Python 3"
    },
    "language_info": {
      "name": "python"
    }
  },
  "cells": [
    {
      "cell_type": "markdown",
      "metadata": {
        "id": "view-in-github",
        "colab_type": "text"
      },
      "source": [
        "<a href=\"https://colab.research.google.com/github/milk-java/Fashion-MNIST/blob/main/Fashion_MNIST.ipynb\" target=\"_parent\"><img src=\"https://colab.research.google.com/assets/colab-badge.svg\" alt=\"Open In Colab\"/></a>"
      ]
    },
    {
      "cell_type": "code",
      "execution_count": 1,
      "metadata": {
        "colab": {
          "base_uri": "https://localhost:8080/"
        },
        "id": "QOceCPPqrQfy",
        "outputId": "0c4f4952-3910-472b-adb5-53efac50a57f"
      },
      "outputs": [
        {
          "output_type": "stream",
          "name": "stdout",
          "text": [
            "Downloading data from https://storage.googleapis.com/tensorflow/tf-keras-datasets/train-labels-idx1-ubyte.gz\n",
            "\u001b[1m29515/29515\u001b[0m \u001b[32m━━━━━━━━━━━━━━━━━━━━\u001b[0m\u001b[37m\u001b[0m \u001b[1m0s\u001b[0m 0us/step\n",
            "Downloading data from https://storage.googleapis.com/tensorflow/tf-keras-datasets/train-images-idx3-ubyte.gz\n",
            "\u001b[1m26421880/26421880\u001b[0m \u001b[32m━━━━━━━━━━━━━━━━━━━━\u001b[0m\u001b[37m\u001b[0m \u001b[1m2s\u001b[0m 0us/step\n",
            "Downloading data from https://storage.googleapis.com/tensorflow/tf-keras-datasets/t10k-labels-idx1-ubyte.gz\n",
            "\u001b[1m5148/5148\u001b[0m \u001b[32m━━━━━━━━━━━━━━━━━━━━\u001b[0m\u001b[37m\u001b[0m \u001b[1m0s\u001b[0m 0us/step\n",
            "Downloading data from https://storage.googleapis.com/tensorflow/tf-keras-datasets/t10k-images-idx3-ubyte.gz\n",
            "\u001b[1m4422102/4422102\u001b[0m \u001b[32m━━━━━━━━━━━━━━━━━━━━\u001b[0m\u001b[37m\u001b[0m \u001b[1m1s\u001b[0m 0us/step\n"
          ]
        },
        {
          "output_type": "stream",
          "name": "stderr",
          "text": [
            "/usr/local/lib/python3.12/dist-packages/keras/src/layers/reshaping/flatten.py:37: UserWarning: Do not pass an `input_shape`/`input_dim` argument to a layer. When using Sequential models, prefer using an `Input(shape)` object as the first layer in the model instead.\n",
            "  super().__init__(**kwargs)\n"
          ]
        },
        {
          "output_type": "stream",
          "name": "stdout",
          "text": [
            "Epoch 1/10\n",
            "\u001b[1m1632/1632\u001b[0m \u001b[32m━━━━━━━━━━━━━━━━━━━━\u001b[0m\u001b[37m\u001b[0m \u001b[1m6s\u001b[0m 3ms/step - accuracy: 0.4804 - loss: 1.4537 - val_accuracy: 0.7757 - val_loss: 0.6335\n",
            "Epoch 2/10\n",
            "\u001b[1m1632/1632\u001b[0m \u001b[32m━━━━━━━━━━━━━━━━━━━━\u001b[0m\u001b[37m\u001b[0m \u001b[1m6s\u001b[0m 4ms/step - accuracy: 0.7919 - loss: 0.5771 - val_accuracy: 0.7809 - val_loss: 0.5975\n",
            "Epoch 3/10\n",
            "\u001b[1m1632/1632\u001b[0m \u001b[32m━━━━━━━━━━━━━━━━━━━━\u001b[0m\u001b[37m\u001b[0m \u001b[1m10s\u001b[0m 4ms/step - accuracy: 0.8209 - loss: 0.5028 - val_accuracy: 0.8283 - val_loss: 0.4809\n",
            "Epoch 4/10\n",
            "\u001b[1m1632/1632\u001b[0m \u001b[32m━━━━━━━━━━━━━━━━━━━━\u001b[0m\u001b[37m\u001b[0m \u001b[1m9s\u001b[0m 3ms/step - accuracy: 0.8371 - loss: 0.4577 - val_accuracy: 0.8305 - val_loss: 0.4798\n",
            "Epoch 5/10\n",
            "\u001b[1m1632/1632\u001b[0m \u001b[32m━━━━━━━━━━━━━━━━━━━━\u001b[0m\u001b[37m\u001b[0m \u001b[1m6s\u001b[0m 4ms/step - accuracy: 0.8467 - loss: 0.4341 - val_accuracy: 0.7881 - val_loss: 0.5757\n",
            "Epoch 6/10\n",
            "\u001b[1m1632/1632\u001b[0m \u001b[32m━━━━━━━━━━━━━━━━━━━━\u001b[0m\u001b[37m\u001b[0m \u001b[1m10s\u001b[0m 4ms/step - accuracy: 0.8566 - loss: 0.4019 - val_accuracy: 0.8031 - val_loss: 0.5907\n",
            "Epoch 7/10\n",
            "\u001b[1m1632/1632\u001b[0m \u001b[32m━━━━━━━━━━━━━━━━━━━━\u001b[0m\u001b[37m\u001b[0m \u001b[1m9s\u001b[0m 3ms/step - accuracy: 0.8586 - loss: 0.3919 - val_accuracy: 0.8393 - val_loss: 0.4546\n",
            "Epoch 8/10\n",
            "\u001b[1m1632/1632\u001b[0m \u001b[32m━━━━━━━━━━━━━━━━━━━━\u001b[0m\u001b[37m\u001b[0m \u001b[1m6s\u001b[0m 4ms/step - accuracy: 0.8631 - loss: 0.3738 - val_accuracy: 0.8467 - val_loss: 0.4367\n",
            "Epoch 9/10\n",
            "\u001b[1m1632/1632\u001b[0m \u001b[32m━━━━━━━━━━━━━━━━━━━━\u001b[0m\u001b[37m\u001b[0m \u001b[1m5s\u001b[0m 3ms/step - accuracy: 0.8710 - loss: 0.3583 - val_accuracy: 0.8581 - val_loss: 0.4066\n",
            "Epoch 10/10\n",
            "\u001b[1m1632/1632\u001b[0m \u001b[32m━━━━━━━━━━━━━━━━━━━━\u001b[0m\u001b[37m\u001b[0m \u001b[1m7s\u001b[0m 4ms/step - accuracy: 0.8748 - loss: 0.3482 - val_accuracy: 0.8676 - val_loss: 0.3776\n",
            "\u001b[1m375/375\u001b[0m \u001b[32m━━━━━━━━━━━━━━━━━━━━\u001b[0m\u001b[37m\u001b[0m \u001b[1m1s\u001b[0m 2ms/step - accuracy: 0.8643 - loss: 0.3799\n",
            "Classification rate on test set: 86.09%\n"
          ]
        }
      ],
      "source": [
        "import tensorflow as tf\n",
        "from tensorflow import keras\n",
        "import numpy as np\n",
        "#import libraries and dataset\n",
        "fashion_mnist= keras.datasets.fashion_mnist\n",
        "(x_train_full, y_train_full),(x_test_full, y_test_full) = fashion_mnist.load_data()\n",
        "#normalize pixel values to[0,1]\n",
        "x_train_full , x_test_full = x_train_full/ 255.0 , x_test_full/ 255.0\n",
        "#split dataset to use 58000 for training\n",
        "x_train, y_train= x_train_full[:58000],y_train_full[:58000]\n",
        "#use last 2000 of training +offical test images\n",
        "x_val_from_train, y_val_train= x_train_full[58000:],y_train_full[58000:]\n",
        "x_test= np.concatenate([x_val_from_train, x_test_full])\n",
        "y_test= np.concatenate([y_val_train, y_test_full])\n",
        "\n",
        "\n",
        "model= tf.keras.models.Sequential([\n",
        "    tf.keras.layers.Flatten(input_shape=(28,28)), #input layer\n",
        "    tf.keras.layers.Dense(64, activation= \"relu\"),#1st\n",
        "    tf.keras.layers.Dense(32, activation= \"relu\"),#2nd\n",
        "    tf.keras.layers.Dense(32, activation= \"relu\"),#3rd\n",
        "    tf.keras.layers.Dense(16, activation= \"relu\"),#4th\n",
        "    tf.keras.layers.Dense(10, activation= \"softmax\"), #output layer\n",
        "])\n",
        "\n",
        "model.compile(loss=\"sparse_categorical_crossentropy\", optimizer=\"sgd\", metrics=[\"accuracy\"])\n",
        "history = model.fit(x_train, y_train, epochs=10, batch_size= 32, validation_split= 0.1)\n",
        "test_loss, test_acc = model.evaluate(x_test, y_test)\n",
        "print(\"Classification rate on test set: {:.2f}%\".format(test_acc*100))"
      ]
    }
  ]
}